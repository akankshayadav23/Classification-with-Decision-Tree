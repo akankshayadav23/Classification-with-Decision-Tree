{
 "cells": [
  {
   "cell_type": "code",
   "execution_count": 30,
   "id": "bba6bc0a",
   "metadata": {},
   "outputs": [
    {
     "name": "stdout",
     "output_type": "stream",
     "text": [
      "     Gender  Age  Salary  Purchase Iphone\n",
      "0         1   19   19000                0\n",
      "1         1   35   20000                0\n",
      "2         0   26   43000                0\n",
      "3         0   27   57000                0\n",
      "4         1   19   76000                0\n",
      "..      ...  ...     ...              ...\n",
      "395       0   46   41000                1\n",
      "396       1   51   23000                1\n",
      "397       0   50   20000                1\n",
      "398       1   36   33000                0\n",
      "399       0   49   36000                1\n",
      "\n",
      "[400 rows x 4 columns]\n",
      "CPU times: total: 31.2 ms\n",
      "Wall time: 12.8 ms\n"
     ]
    }
   ],
   "source": [
    "%%time\n",
    "##importing the necessary libraries\n",
    "import pandas as pd\n",
    "import numpy as np\n",
    "import time\n",
    "from sklearn.tree import DecisionTreeClassifier\n",
    "from sklearn.model_selection import train_test_split\n",
    "from sklearn.metrics import accuracy_score,classification_report\n",
    "\n",
    "## loading the dataset\n",
    "def read_data():\n",
    "    data = pd.read_csv(\"iphone_file.csv\")\n",
    "    return data\n",
    "\n",
    "data = read_data()\n",
    "print(data)\n",
    "## data preparation function and spliting the data into X and y\n",
    "def data_prep(data,t):\n",
    "    X = data.iloc[:,:-1]\n",
    "    y = data.iloc[:,-1]\n",
    "    X_train,X_test,y_train,y_test = train_test_split(X,y,test_size = t,random_state=34)\n",
    "    return X_train,X_test,y_train,y_test\n",
    "## Training the model using Decision tree classifier and making function \n",
    "\n",
    "def ds_tree(X_train,y_train,X_test):\n",
    "    ds_model = DecisionTreeClassifier(criterion='entropy',max_depth = 8)\n",
    "    ds_model_fit = ds_model.fit(X_train,y_train)\n",
    "    pred = ds_model_fit.predict(X_test)\n",
    "    return pred\n",
    "## creating a function for the accuracy check and other parameter\n",
    "def diag_model(y_test,pred):\n",
    "    acc = accuracy_score(y_test,pred)\n",
    "    clf = classification_report(y_test,pred)\n",
    "    return acc,clf\n",
    "## calling all the function into main function.\n",
    "def main_function():\n",
    "    data = read_data()\n",
    "    X_train,X_test,y_train,y_test = data_prep(data,0.2)\n",
    "    pred = ds_tree(X_train,y_train,X_test)\n",
    "    acc,clf = diag_model(y_test,pred)\n",
    "    return clf"
   ]
  },
  {
   "cell_type": "code",
   "execution_count": 31,
   "id": "7552946f",
   "metadata": {},
   "outputs": [
    {
     "name": "stdout",
     "output_type": "stream",
     "text": [
      "              precision    recall  f1-score   support\n",
      "\n",
      "           0       0.91      0.88      0.90        49\n",
      "           1       0.82      0.87      0.84        31\n",
      "\n",
      "    accuracy                           0.88        80\n",
      "   macro avg       0.87      0.87      0.87        80\n",
      "weighted avg       0.88      0.88      0.88        80\n",
      "\n",
      "CPU times: total: 46.9 ms\n",
      "Wall time: 37.7 ms\n"
     ]
    }
   ],
   "source": [
    "%%time\n",
    "results = main_function()\n",
    "print(results)"
   ]
  },
  {
   "cell_type": "code",
   "execution_count": null,
   "id": "2f4510cb",
   "metadata": {},
   "outputs": [],
   "source": []
  }
 ],
 "metadata": {
  "kernelspec": {
   "display_name": "Python 3 (ipykernel)",
   "language": "python",
   "name": "python3"
  },
  "language_info": {
   "codemirror_mode": {
    "name": "ipython",
    "version": 3
   },
   "file_extension": ".py",
   "mimetype": "text/x-python",
   "name": "python",
   "nbconvert_exporter": "python",
   "pygments_lexer": "ipython3",
   "version": "3.11.3"
  }
 },
 "nbformat": 4,
 "nbformat_minor": 5
}
