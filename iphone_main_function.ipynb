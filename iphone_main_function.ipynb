{
 "cells": [
  {
   "cell_type": "code",
   "execution_count": 1,
   "id": "5aeb4693",
   "metadata": {},
   "outputs": [
    {
     "name": "stdout",
     "output_type": "stream",
     "text": [
      "importing Jupyter notebook from iphone_model.ipynb\n",
      "     Gender  Age  Salary  Purchase Iphone\n",
      "0         1   19   19000                0\n",
      "1         1   35   20000                0\n",
      "2         0   26   43000                0\n",
      "3         0   27   57000                0\n",
      "4         1   19   76000                0\n",
      "..      ...  ...     ...              ...\n",
      "395       0   46   41000                1\n",
      "396       1   51   23000                1\n",
      "397       0   50   20000                1\n",
      "398       1   36   33000                0\n",
      "399       0   49   36000                1\n",
      "\n",
      "[400 rows x 4 columns]\n",
      "CPU times: total: 578 ms\n",
      "Wall time: 2.61 s\n",
      "              precision    recall  f1-score   support\n",
      "\n",
      "           0       0.90      0.92      0.91        49\n",
      "           1       0.87      0.84      0.85        31\n",
      "\n",
      "    accuracy                           0.89        80\n",
      "   macro avg       0.88      0.88      0.88        80\n",
      "weighted avg       0.89      0.89      0.89        80\n",
      "\n",
      "CPU times: total: 0 ns\n",
      "Wall time: 37.8 ms\n"
     ]
    }
   ],
   "source": [
    "##importing the necessary libraries\n",
    "import import_ipynb\n",
    "import pandas as pd\n",
    "from iphone_model import main_function"
   ]
  },
  {
   "cell_type": "code",
   "execution_count": 2,
   "id": "0c9e285f",
   "metadata": {},
   "outputs": [
    {
     "name": "stdout",
     "output_type": "stream",
     "text": [
      "              precision    recall  f1-score   support\n",
      "\n",
      "           0       0.91      0.88      0.90        49\n",
      "           1       0.82      0.87      0.84        31\n",
      "\n",
      "    accuracy                           0.88        80\n",
      "   macro avg       0.87      0.87      0.87        80\n",
      "weighted avg       0.88      0.88      0.88        80\n",
      "\n"
     ]
    }
   ],
   "source": [
    "result = main_function()\n",
    "print(result)"
   ]
  },
  {
   "cell_type": "code",
   "execution_count": null,
   "id": "b9ac2017",
   "metadata": {},
   "outputs": [],
   "source": []
  }
 ],
 "metadata": {
  "kernelspec": {
   "display_name": "Python 3 (ipykernel)",
   "language": "python",
   "name": "python3"
  },
  "language_info": {
   "codemirror_mode": {
    "name": "ipython",
    "version": 3
   },
   "file_extension": ".py",
   "mimetype": "text/x-python",
   "name": "python",
   "nbconvert_exporter": "python",
   "pygments_lexer": "ipython3",
   "version": "3.11.3"
  }
 },
 "nbformat": 4,
 "nbformat_minor": 5
}
